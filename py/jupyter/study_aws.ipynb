{
 "cells": [
  {
   "cell_type": "markdown",
   "metadata": {
    "deletable": true,
    "editable": true
   },
   "source": [
    "# s3"
   ]
  },
  {
   "cell_type": "markdown",
   "metadata": {
    "deletable": true,
    "editable": true
   },
   "source": [
    "### list all files"
   ]
  },
  {
   "cell_type": "code",
   "execution_count": 15,
   "metadata": {
    "collapsed": false,
    "deletable": true,
    "editable": true
   },
   "outputs": [
    {
     "data": {
      "text/plain": [
       "[{'ETag': '\"8e6fa0797999fc54bedc8d18a2b0b3d6\"',\n",
       "  'Key': '2013-02-23-12-17-49-6B4C46A82B207DC2',\n",
       "  'LastModified': datetime.datetime(2013, 2, 23, 12, 17, 50, tzinfo=tzutc()),\n",
       "  'Owner': {'DisplayName': 's3-log-service',\n",
       "   'ID': '3272ee65a908a7677109fedda345db8d9554ba26398b2ca10581de88777e2b61'},\n",
       "  'Size': 366,\n",
       "  'StorageClass': 'STANDARD'},\n",
       " {'ETag': '\"32637e53da6c0afc8ce12a9b84559106\"',\n",
       "  'Key': '2013-02-23-13-18-48-629C73E5A218D37F',\n",
       "  'LastModified': datetime.datetime(2013, 2, 23, 13, 18, 49, tzinfo=tzutc()),\n",
       "  'Owner': {'DisplayName': 's3-log-service',\n",
       "   'ID': '3272ee65a908a7677109fedda345db8d9554ba26398b2ca10581de88777e2b61'},\n",
       "  'Size': 367,\n",
       "  'StorageClass': 'STANDARD'}]"
      ]
     },
     "execution_count": 15,
     "metadata": {},
     "output_type": "execute_result"
    }
   ],
   "source": [
    "import boto3\n",
    "s3=boto3.client('s3')\n",
    "list=s3.list_objects(Bucket='mert01')['Contents']\n",
    "list[1:3]"
   ]
  },
  {
   "cell_type": "code",
   "execution_count": 27,
   "metadata": {
    "collapsed": false,
    "deletable": true,
    "editable": true
   },
   "outputs": [],
   "source": [
    "# https://stackoverflow.com/questions/3337912/quick-way-to-list-all-files-in-amazon-s3-bucket\n",
    "import boto\n",
    "\n",
    "s3 = boto.connect_s3()\n",
    "bucket = s3.get_bucket('mert01')\n",
    "#bl = bucket.list()\n",
    "#for key in bucket.list():\n",
    "#    print(key.name)\n"
   ]
  },
  {
   "cell_type": "code",
   "execution_count": 30,
   "metadata": {
    "collapsed": false,
    "deletable": true,
    "editable": true
   },
   "outputs": [
    {
     "name": "stdout",
     "output_type": "stream",
     "text": [
      "2013-02-23-11-18-40-F481822430A3900B\n",
      "2013-02-23-12-17-49-6B4C46A82B207DC2\n",
      "2013-02-23-13-18-48-629C73E5A218D37F\n"
     ]
    }
   ],
   "source": [
    "import itertools\n",
    "for el in itertools.islice(bl, 0, 3):\n",
    "    print(el.name)"
   ]
  },
  {
   "cell_type": "code",
   "execution_count": 32,
   "metadata": {
    "collapsed": false,
    "deletable": true,
    "editable": true
   },
   "outputs": [
    {
     "name": "stdout",
     "output_type": "stream",
     "text": [
      "23949\n"
     ]
    }
   ],
   "source": [
    "# len(bl)\n",
    "i = 0\n",
    "for key in bucket.list():\n",
    "    i = i + 1\n",
    "print(i)\n"
   ]
  },
  {
   "cell_type": "code",
   "execution_count": 37,
   "metadata": {
    "collapsed": false,
    "deletable": true,
    "editable": true
   },
   "outputs": [
    {
     "name": "stdout",
     "output_type": "stream",
     "text": [
      "2013-02-23-11-18-40-F481822430A3900B\n",
      "2013-02-23-12-17-49-6B4C46A82B207DC2\n",
      "2013-02-23-13-18-48-629C73E5A218D37F\n"
     ]
    }
   ],
   "source": [
    "bl2 = bucket.list(prefix=\"201\")\n",
    "for el in itertools.islice(bl2, 0, 3):\n",
    "    print(el.name)"
   ]
  },
  {
   "cell_type": "code",
   "execution_count": 38,
   "metadata": {
    "collapsed": false,
    "deletable": true,
    "editable": true
   },
   "outputs": [
    {
     "data": {
      "text/plain": [
       "<boto.s3.multidelete.MultiDeleteResult at 0x107cf8978>"
      ]
     },
     "execution_count": 38,
     "metadata": {},
     "output_type": "execute_result"
    }
   ],
   "source": [
    "# https://stackoverflow.com/questions/10054985/how-to-delete-files-recursively-from-an-s3-bucket#18698235\n",
    "result = bucket.delete_keys([key.name for key in bl2])\n",
    "result"
   ]
  },
  {
   "cell_type": "markdown",
   "metadata": {
    "collapsed": true,
    "deletable": true,
    "editable": true
   },
   "source": [
    "## aws cli"
   ]
  },
  {
   "cell_type": "markdown",
   "metadata": {
    "deletable": true,
    "editable": true
   },
   "source": [
    "### aws configure"
   ]
  },
  {
   "cell_type": "code",
   "execution_count": null,
   "metadata": {
    "collapsed": false,
    "deletable": true,
    "editable": true
   },
   "outputs": [
    {
     "name": "stdout",
     "output_type": "stream",
     "text": [
      "CONFIGURE()                                                        CONFIGURE()\u001b[m\n",
      "\u001b[m\n",
      "\u001b[m\n",
      "\u001b[m\n",
      "\u001b[1mNAME\u001b[m\u001b[m\n",
      "       configure -\u001b[m\n",
      "\u001b[m\n",
      "\u001b[1mDESCRIPTION\u001b[m\u001b[m\n",
      "       Configure  AWS  CLI  options. If this command is run with no arguments,\u001b[m\n",
      "       you will be prompted for configuration values such as your  AWS  Access\u001b[m\n",
      "       Key  Id  and you AWS Secret Access Key.  You can configure a named pro-\u001b[m\n",
      "       file using the \u001b[1m--profile\u001b[m argument.  If your config file does not  exist\u001b[m\n",
      "       (the default location is \u001b[1m~/.aws/config\u001b[m), the AWS CLI will create it for\u001b[m\n",
      "       you.  To keep an existing value, hit enter when prompted for the value.\u001b[m\n",
      "       When  you  are prompted for information, the current value will be dis-\u001b[m\n",
      "       played in \u001b[1m[brackets]\u001b[m.  If the config item has no value, it be displayed\u001b[m\n",
      "       as  \u001b[1m[None]\u001b[m.  Note that the \u001b[1mconfigure\u001b[m command only work with values from\u001b[m\n",
      "       the config file.  It does not use any configuration values  from  envi-\u001b[m\n",
      "       ronment variables or the IAM role.\u001b[m\n",
      "\u001b[m\n",
      "       Note:  the  values  you  provide  for the AWS Access Key ID and the AWS\u001b[m\n",
      "       Secret Access Key will  be  written  to  the  shared  credentials  file\u001b[m\n",
      "       (\u001b[1m~/.aws/credentials\u001b[m).\u001b[m\n",
      ":\u001b[K"
     ]
    }
   ],
   "source": [
    "!aws configure help"
   ]
  },
  {
   "cell_type": "code",
   "execution_count": 2,
   "metadata": {
    "collapsed": false,
    "deletable": true,
    "editable": true
   },
   "outputs": [
    {
     "name": "stdout",
     "output_type": "stream",
     "text": [
      "      Name                    Value             Type    Location\r\n",
      "      ----                    -----             ----    --------\r\n",
      "   profile                <not set>             None    None\r\n",
      "access_key     ****************YBAQ shared-credentials-file    \r\n",
      "secret_key     ****************91un shared-credentials-file    \r\n",
      "    region             eu-central-1      config-file    ~/.aws/config\r\n"
     ]
    }
   ],
   "source": [
    "!aws configure list"
   ]
  },
  {
   "cell_type": "code",
   "execution_count": 3,
   "metadata": {
    "collapsed": false,
    "deletable": true,
    "editable": true
   },
   "outputs": [
    {
     "name": "stdout",
     "output_type": "stream",
     "text": [
      "[default]\r\n",
      "region = eu-central-1\r\n",
      "output = json\r\n"
     ]
    }
   ],
   "source": [
    "!cat ~/.aws/config"
   ]
  },
  {
   "cell_type": "code",
   "execution_count": 5,
   "metadata": {
    "collapsed": false,
    "deletable": true,
    "editable": true
   },
   "outputs": [
    {
     "name": "stdout",
     "output_type": "stream",
     "text": [
      "{\r\n",
      "    \"Volumes\": []\r\n",
      "}\r\n"
     ]
    }
   ],
   "source": [
    "!export AWS_DEFAULT_REGION=us-west-1\n",
    "!aws ec2 describe-volumes"
   ]
  },
  {
   "cell_type": "markdown",
   "metadata": {
    "deletable": true,
    "editable": true
   },
   "source": [
    "### IAM (identity and access management)"
   ]
  },
  {
   "cell_type": "markdown",
   "metadata": {
    "deletable": true,
    "editable": true
   },
   "source": [
    "Documentation:\n",
    "\n",
    "http://docs.aws.amazon.com/IAM/latest/UserGuide/getting-started_create-admin-group.html?shortFooter=true#Using_CreateGroup"
   ]
  },
  {
   "cell_type": "code",
   "execution_count": 6,
   "metadata": {
    "collapsed": false,
    "deletable": true,
    "editable": true
   },
   "outputs": [
    {
     "name": "stdout",
     "output_type": "stream",
     "text": [
      "{\r\n",
      "    \"Groups\": [\r\n",
      "        {\r\n",
      "            \"Path\": \"/\",\r\n",
      "            \"CreateDate\": \"2017-03-27T12:19:15Z\",\r\n",
      "            \"Arn\": \"arn:aws:iam::217382780035:group/iterative\",\r\n",
      "            \"GroupName\": \"iterative\",\r\n",
      "            \"GroupId\": \"AGPAJEEYNNP5NEHOFFSHO\"\r\n",
      "        }\r\n",
      "    ]\r\n",
      "}\r\n"
     ]
    }
   ],
   "source": [
    "!aws iam list-groups"
   ]
  },
  {
   "cell_type": "code",
   "execution_count": 7,
   "metadata": {
    "collapsed": false,
    "deletable": true,
    "editable": true
   },
   "outputs": [
    {
     "name": "stdout",
     "output_type": "stream",
     "text": [
      "{\n",
      "    \"AttachedPolicies\": [\n",
      "        {\n",
      "            \"PolicyName\": \"AdministratorAccess\",\n",
      "            \"PolicyArn\": \"arn:aws:iam::aws:policy/AdministratorAccess\"\n",
      "        }\n",
      "    ]\n",
      "}\n"
     ]
    }
   ],
   "source": [
    "!aws iam list-attached-group-policies --group-name iterative"
   ]
  },
  {
   "cell_type": "code",
   "execution_count": 1,
   "metadata": {
    "collapsed": false,
    "deletable": true,
    "editable": true
   },
   "outputs": [
    {
     "name": "stdout",
     "output_type": "stream",
     "text": [
      "{\r\n",
      "    \"Users\": [\r\n",
      "        {\r\n",
      "            \"UserId\": \"AIDAI3KD6Q7I5CKXBS2B2\",\r\n",
      "            \"UserName\": \"Administrator\",\r\n",
      "            \"PasswordLastUsed\": \"2017-03-27T12:24:20Z\",\r\n",
      "            \"Path\": \"/\",\r\n",
      "            \"CreateDate\": \"2017-03-27T12:19:48Z\",\r\n",
      "            \"Arn\": \"arn:aws:iam::217382780035:user/Administrator\"\r\n",
      "        },\r\n",
      "        {\r\n",
      "            \"UserId\": \"AIDAIUJA3O4KRIVFN3QU6\",\r\n",
      "            \"UserName\": \"mertnuhoglu\",\r\n",
      "            \"Path\": \"/\",\r\n",
      "            \"CreateDate\": \"2012-02-07T13:15:07Z\",\r\n",
      "            \"Arn\": \"arn:aws:iam::217382780035:user/mertnuhoglu\"\r\n",
      "        }\r\n",
      "    ]\r\n",
      "}\r\n"
     ]
    }
   ],
   "source": [
    "!aws iam list-users"
   ]
  },
  {
   "cell_type": "markdown",
   "metadata": {
    "deletable": true,
    "editable": true
   },
   "source": [
    "### Find cheapest prices: awespottr"
   ]
  },
  {
   "cell_type": "code",
   "execution_count": 3,
   "metadata": {
    "collapsed": false,
    "deletable": true,
    "editable": true
   },
   "outputs": [
    {
     "name": "stdout",
     "output_type": "stream",
     "text": [
      "Checking spot prices for c4.xlarge instance type.\n",
      "\n",
      "AWS Zone                 Hourly Rate \n",
      "------------------------ ------------\n",
      "\u001b[32mus-east-2b               $0.025200   \u001b[39m\n",
      "\u001b[33mus-east-2c               $0.025400   \u001b[39m\n",
      "us-east-2a               $0.032000   \n",
      "ap-northeast-2a          $0.033500   \n",
      "ap-northeast-2c          $0.034000   \n",
      "ca-central-1b            $0.035000   \n",
      "eu-west-2b               $0.035000   \n",
      "eu-west-2a               $0.038000   \n",
      "us-west-1a               $0.038000   \n",
      "us-west-1b               $0.039400   \n",
      "ap-southeast-1b          $0.040700   \n",
      "sa-east-1c               $0.048000   \n",
      "eu-central-1b            $0.048100   \n",
      "us-east-1f               $0.048200   \n",
      "us-east-1a               $0.048500   \n",
      "us-east-1d               $0.049000   \n",
      "us-east-1b               $0.049100   \n",
      "us-east-1c               $0.049900   \n",
      "us-east-1e               $0.050100   \n",
      "ap-south-1a              $0.051700   \n",
      "ca-central-1a            $0.053400   \n",
      "us-west-2b               $0.057400   \n",
      "us-west-2a               $0.058000   \n",
      "us-west-2c               $0.058000   \n",
      "ap-south-1b              $0.060000   \n",
      "ap-northeast-1a          $0.064600   \n",
      "ap-northeast-1c          $0.064700   \n",
      "sa-east-1a               $0.066800   \n",
      "ap-southeast-2b          $0.070800   \n",
      "ap-southeast-2c          $0.070900   \n",
      "ap-southeast-2a          $0.071200   \n",
      "eu-west-1c               $0.072200   \n",
      "eu-west-1b               $0.072300   \n",
      "eu-west-1a               $0.073200   \n",
      "eu-central-1a            $0.073500   \n",
      "ap-southeast-1a          $0.078400   \n",
      "eu-central-1c            $0.091100   \n",
      "ap-northeast-1b          $2.940000   \n",
      "sa-east-1b               $3.250000   \n",
      "\u001b[32m\n",
      "Cheapest hourly rate for c4.xlarge is $0.025200 in zone us-east-2b\u001b[39m\n"
     ]
    }
   ],
   "source": [
    "!awespottr c4.xlarge"
   ]
  },
  {
   "cell_type": "code",
   "execution_count": null,
   "metadata": {
    "collapsed": true,
    "deletable": true,
    "editable": true
   },
   "outputs": [],
   "source": [
    "!export AWS_DEFAULT_REGION=us-east-2\n",
    "!aws ec2 describe-spot-price-history --availability-zone \"${AWS_DEFAULT_REGION}b\" --product-description \"Linux/UNIX\" --instance-types c4.xlarge --start-time `date -u --date=\"7 days ago\" +'%Y-%m-%dT%H:%M:00'` | jq -r -c '.SpotPriceHistory[] | (.SpotPrice)' | head -n 20"
   ]
  },
  {
   "cell_type": "code",
   "execution_count": 1,
   "metadata": {
    "collapsed": false,
    "deletable": true,
    "editable": true
   },
   "outputs": [
    {
     "name": "stdout",
     "output_type": "stream",
     "text": [
      "{\r\n",
      "    \"Regions\": [\r\n",
      "        {\r\n",
      "            \"Endpoint\": \"ec2.ap-south-1.amazonaws.com\",\r\n",
      "            \"RegionName\": \"ap-south-1\"\r\n",
      "        },\r\n",
      "        {\r\n",
      "            \"Endpoint\": \"ec2.eu-west-2.amazonaws.com\",\r\n",
      "            \"RegionName\": \"eu-west-2\"\r\n",
      "        },\r\n",
      "        {\r\n",
      "            \"Endpoint\": \"ec2.eu-west-1.amazonaws.com\",\r\n",
      "            \"RegionName\": \"eu-west-1\"\r\n",
      "        },\r\n",
      "        {\r\n",
      "            \"Endpoint\": \"ec2.ap-northeast-2.amazonaws.com\",\r\n",
      "            \"RegionName\": \"ap-northeast-2\"\r\n",
      "        },\r\n",
      "        {\r\n",
      "            \"Endpoint\": \"ec2.ap-northeast-1.amazonaws.com\",\r\n",
      "            \"RegionName\": \"ap-northeast-1\"\r\n",
      "        },\r\n",
      "        {\r\n",
      "            \"Endpoint\": \"ec2.sa-east-1.amazonaws.com\",\r\n",
      "            \"RegionName\": \"sa-east-1\"\r\n",
      "        },\r\n",
      "        {\r\n",
      "            \"Endpoint\": \"ec2.ca-central-1.amazonaws.com\",\r\n",
      "            \"RegionName\": \"ca-central-1\"\r\n",
      "        },\r\n",
      "        {\r\n",
      "            \"Endpoint\": \"ec2.ap-southeast-1.amazonaws.com\",\r\n",
      "            \"RegionName\": \"ap-southeast-1\"\r\n",
      "        },\r\n",
      "        {\r\n",
      "            \"Endpoint\": \"ec2.ap-southeast-2.amazonaws.com\",\r\n",
      "            \"RegionName\": \"ap-southeast-2\"\r\n",
      "        },\r\n",
      "        {\r\n",
      "            \"Endpoint\": \"ec2.eu-central-1.amazonaws.com\",\r\n",
      "            \"RegionName\": \"eu-central-1\"\r\n",
      "        },\r\n",
      "        {\r\n",
      "            \"Endpoint\": \"ec2.us-east-1.amazonaws.com\",\r\n",
      "            \"RegionName\": \"us-east-1\"\r\n",
      "        },\r\n",
      "        {\r\n",
      "            \"Endpoint\": \"ec2.us-east-2.amazonaws.com\",\r\n",
      "            \"RegionName\": \"us-east-2\"\r\n",
      "        },\r\n",
      "        {\r\n",
      "            \"Endpoint\": \"ec2.us-west-1.amazonaws.com\",\r\n",
      "            \"RegionName\": \"us-west-1\"\r\n",
      "        },\r\n",
      "        {\r\n",
      "            \"Endpoint\": \"ec2.us-west-2.amazonaws.com\",\r\n",
      "            \"RegionName\": \"us-west-2\"\r\n",
      "        }\r\n",
      "    ]\r\n",
      "}\r\n"
     ]
    }
   ],
   "source": [
    "!aws ec2 describe-regions"
   ]
  },
  {
   "cell_type": "code",
   "execution_count": 2,
   "metadata": {
    "collapsed": false,
    "deletable": true,
    "editable": true
   },
   "outputs": [
    {
     "name": "stdout",
     "output_type": "stream",
     "text": [
      "{\r\n",
      "    \"AvailabilityZones\": [\r\n",
      "        {\r\n",
      "            \"ZoneName\": \"us-east-2a\",\r\n",
      "            \"Messages\": [],\r\n",
      "            \"State\": \"available\",\r\n",
      "            \"RegionName\": \"us-east-2\"\r\n",
      "        },\r\n",
      "        {\r\n",
      "            \"ZoneName\": \"us-east-2b\",\r\n",
      "            \"Messages\": [],\r\n",
      "            \"State\": \"available\",\r\n",
      "            \"RegionName\": \"us-east-2\"\r\n",
      "        },\r\n",
      "        {\r\n",
      "            \"ZoneName\": \"us-east-2c\",\r\n",
      "            \"Messages\": [],\r\n",
      "            \"State\": \"available\",\r\n",
      "            \"RegionName\": \"us-east-2\"\r\n",
      "        }\r\n",
      "    ]\r\n",
      "}\r\n"
     ]
    }
   ],
   "source": [
    "!aws ec2 describe-availability-zones --region us-east-2"
   ]
  },
  {
   "cell_type": "markdown",
   "metadata": {
    "collapsed": true,
    "deletable": true,
    "editable": true
   },
   "source": [
    "## Finding AMIs"
   ]
  },
  {
   "cell_type": "code",
   "execution_count": 3,
   "metadata": {
    "collapsed": false,
    "deletable": true,
    "editable": true
   },
   "outputs": [],
   "source": [
    "!aws ec2 describe-images --owners self amazon --filters \"Name=root-device-type,Values=ebs\" > data/ex_aws01.json"
   ]
  },
  {
   "cell_type": "code",
   "execution_count": 4,
   "metadata": {
    "collapsed": false,
    "deletable": true,
    "editable": true
   },
   "outputs": [
    {
     "name": "stdout",
     "output_type": "stream",
     "text": [
      "{\r\n",
      "    \"Images\": [\r\n",
      "        {\r\n",
      "            \"ImageId\": \"ami-0083a365\",\r\n",
      "            \"Platform\": \"windows\",\r\n",
      "            \"RootDeviceType\": \"ebs\",\r\n",
      "            \"VirtualizationType\": \"hvm\",\r\n",
      "            \"Hypervisor\": \"xen\",\r\n",
      "            \"CreationDate\": \"2017-08-12T07:45:04.000Z\",\r\n",
      "            \"Description\": \"Microsoft Windows Server 2008 SP2 Datacenter 64-bit Locale English with SQL Express 2008 AMI provided by Amazon\",\r\n",
      "            \"ImageOwnerAlias\": \"amazon\",\r\n",
      "            \"ImageType\": \"machine\",\r\n",
      "            \"Architecture\": \"x86_64\",\r\n",
      "            \"Public\": true,\r\n",
      "            \"BlockDeviceMappings\": [\r\n",
      "                {\r\n",
      "                    \"DeviceName\": \"/dev/sda1\",\r\n",
      "                    \"Ebs\": {\r\n",
      "                        \"SnapshotId\": \"snap-0681d17022194981a\",\r\n",
      "                        \"DeleteOnTermination\": true,\r\n",
      "                        \"VolumeType\": \"gp2\",\r\n",
      "                        \"Encrypted\": false,\r\n",
      "                        \"VolumeSize\": 50\r\n",
      "                    }\r\n",
      "                },\r\n",
      "                {\r\n",
      "                    \"DeviceName\": \"xvdca\",\r\n",
      "                    \"VirtualName\": \"ephemeral0\"\r\n",
      "                },\r\n",
      "                {\r\n",
      "cat: write error: Broken pipe\r\n"
     ]
    }
   ],
   "source": [
    "!cat data/ex_aws01.json | head -n 30"
   ]
  },
  {
   "cell_type": "code",
   "execution_count": 2,
   "metadata": {
    "collapsed": false,
    "deletable": true,
    "editable": true
   },
   "outputs": [
    {
     "name": "stdout",
     "output_type": "stream",
     "text": [
      "{\r\n",
      "  \"ami\": \"ami-0083a365\"\r\n",
      "}\r\n",
      "{\r\n",
      "  \"ami\": \"ami-009cbc65\"\r\n",
      "}\r\n",
      "{\r\n",
      "  \"ami\": \"ami-00e9cb65\"\r\n"
     ]
    }
   ],
   "source": [
    "!jq '{ami: .Images[].ImageId}' data/ex_aws01.json | head -n 8"
   ]
  },
  {
   "cell_type": "code",
   "execution_count": 1,
   "metadata": {
    "collapsed": false,
    "deletable": true,
    "editable": true
   },
   "outputs": [
    {
     "name": "stdout",
     "output_type": "stream",
     "text": [
      "{\r\n",
      "  \"ami\": [\r\n",
      "    \"ami-0083a365\",\r\n",
      "    \"ami-009cbc65\",\r\n",
      "    \"ami-00e9cb65\",\r\n"
     ]
    }
   ],
   "source": [
    "!jq '{ami: [.Images[].ImageId]}' data/ex_aws01.json | head -n 5"
   ]
  },
  {
   "cell_type": "code",
   "execution_count": null,
   "metadata": {
    "collapsed": true,
    "deletable": true,
    "editable": true
   },
   "outputs": [],
   "source": []
  }
 ],
 "metadata": {
  "kernelspec": {
   "display_name": "Python 3",
   "language": "python",
   "name": "python3"
  },
  "language_info": {
   "codemirror_mode": {
    "name": "ipython",
    "version": 3
   },
   "file_extension": ".py",
   "mimetype": "text/x-python",
   "name": "python",
   "nbconvert_exporter": "python",
   "pygments_lexer": "ipython3",
   "version": "3.5.2"
  }
 },
 "nbformat": 4,
 "nbformat_minor": 2
}
