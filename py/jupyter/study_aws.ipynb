{
 "cells": [
  {
   "cell_type": "markdown",
   "metadata": {
    "deletable": true,
    "editable": true
   },
   "source": [
    "# s3"
   ]
  },
  {
   "cell_type": "markdown",
   "metadata": {
    "deletable": true,
    "editable": true
   },
   "source": [
    "### list all files"
   ]
  },
  {
   "cell_type": "code",
   "execution_count": 15,
   "metadata": {
    "collapsed": false,
    "deletable": true,
    "editable": true
   },
   "outputs": [
    {
     "data": {
      "text/plain": [
       "[{'ETag': '\"8e6fa0797999fc54bedc8d18a2b0b3d6\"',\n",
       "  'Key': '2013-02-23-12-17-49-6B4C46A82B207DC2',\n",
       "  'LastModified': datetime.datetime(2013, 2, 23, 12, 17, 50, tzinfo=tzutc()),\n",
       "  'Owner': {'DisplayName': 's3-log-service',\n",
       "   'ID': '3272ee65a908a7677109fedda345db8d9554ba26398b2ca10581de88777e2b61'},\n",
       "  'Size': 366,\n",
       "  'StorageClass': 'STANDARD'},\n",
       " {'ETag': '\"32637e53da6c0afc8ce12a9b84559106\"',\n",
       "  'Key': '2013-02-23-13-18-48-629C73E5A218D37F',\n",
       "  'LastModified': datetime.datetime(2013, 2, 23, 13, 18, 49, tzinfo=tzutc()),\n",
       "  'Owner': {'DisplayName': 's3-log-service',\n",
       "   'ID': '3272ee65a908a7677109fedda345db8d9554ba26398b2ca10581de88777e2b61'},\n",
       "  'Size': 367,\n",
       "  'StorageClass': 'STANDARD'}]"
      ]
     },
     "execution_count": 15,
     "metadata": {},
     "output_type": "execute_result"
    }
   ],
   "source": [
    "import boto3\n",
    "s3=boto3.client('s3')\n",
    "list=s3.list_objects(Bucket='mert01')['Contents']\n",
    "list[1:3]"
   ]
  },
  {
   "cell_type": "code",
   "execution_count": 27,
   "metadata": {
    "collapsed": false,
    "deletable": true,
    "editable": true
   },
   "outputs": [],
   "source": [
    "# https://stackoverflow.com/questions/3337912/quick-way-to-list-all-files-in-amazon-s3-bucket\n",
    "import boto\n",
    "\n",
    "s3 = boto.connect_s3()\n",
    "bucket = s3.get_bucket('mert01')\n",
    "#bl = bucket.list()\n",
    "#for key in bucket.list():\n",
    "#    print(key.name)\n"
   ]
  },
  {
   "cell_type": "code",
   "execution_count": 30,
   "metadata": {
    "collapsed": false,
    "deletable": true,
    "editable": true
   },
   "outputs": [
    {
     "name": "stdout",
     "output_type": "stream",
     "text": [
      "2013-02-23-11-18-40-F481822430A3900B\n",
      "2013-02-23-12-17-49-6B4C46A82B207DC2\n",
      "2013-02-23-13-18-48-629C73E5A218D37F\n"
     ]
    }
   ],
   "source": [
    "import itertools\n",
    "for el in itertools.islice(bl, 0, 3):\n",
    "    print(el.name)"
   ]
  },
  {
   "cell_type": "code",
   "execution_count": 32,
   "metadata": {
    "collapsed": false,
    "deletable": true,
    "editable": true
   },
   "outputs": [
    {
     "name": "stdout",
     "output_type": "stream",
     "text": [
      "23949\n"
     ]
    }
   ],
   "source": [
    "# len(bl)\n",
    "i = 0\n",
    "for key in bucket.list():\n",
    "    i = i + 1\n",
    "print(i)\n"
   ]
  },
  {
   "cell_type": "code",
   "execution_count": 37,
   "metadata": {
    "collapsed": false,
    "deletable": true,
    "editable": true
   },
   "outputs": [
    {
     "name": "stdout",
     "output_type": "stream",
     "text": [
      "2013-02-23-11-18-40-F481822430A3900B\n",
      "2013-02-23-12-17-49-6B4C46A82B207DC2\n",
      "2013-02-23-13-18-48-629C73E5A218D37F\n"
     ]
    }
   ],
   "source": [
    "bl2 = bucket.list(prefix=\"201\")\n",
    "for el in itertools.islice(bl2, 0, 3):\n",
    "    print(el.name)"
   ]
  },
  {
   "cell_type": "code",
   "execution_count": 38,
   "metadata": {
    "collapsed": false,
    "deletable": true,
    "editable": true
   },
   "outputs": [
    {
     "data": {
      "text/plain": [
       "<boto.s3.multidelete.MultiDeleteResult at 0x107cf8978>"
      ]
     },
     "execution_count": 38,
     "metadata": {},
     "output_type": "execute_result"
    }
   ],
   "source": [
    "# https://stackoverflow.com/questions/10054985/how-to-delete-files-recursively-from-an-s3-bucket#18698235\n",
    "result = bucket.delete_keys([key.name for key in bl2])\n",
    "result"
   ]
  },
  {
   "cell_type": "markdown",
   "metadata": {
    "collapsed": true,
    "deletable": true,
    "editable": true
   },
   "source": [
    "## aws cli"
   ]
  },
  {
   "cell_type": "markdown",
   "metadata": {},
   "source": [
    "### aws configure"
   ]
  },
  {
   "cell_type": "code",
   "execution_count": 2,
   "metadata": {
    "collapsed": false
   },
   "outputs": [
    {
     "name": "stdout",
     "output_type": "stream",
     "text": [
      "      Name                    Value             Type    Location\r\n",
      "      ----                    -----             ----    --------\r\n",
      "   profile                <not set>             None    None\r\n",
      "access_key     ****************YBAQ shared-credentials-file    \r\n",
      "secret_key     ****************91un shared-credentials-file    \r\n",
      "    region             eu-central-1      config-file    ~/.aws/config\r\n"
     ]
    }
   ],
   "source": [
    "!aws configure list"
   ]
  },
  {
   "cell_type": "code",
   "execution_count": 3,
   "metadata": {
    "collapsed": false
   },
   "outputs": [
    {
     "name": "stdout",
     "output_type": "stream",
     "text": [
      "[default]\r\n",
      "region = eu-central-1\r\n",
      "output = json\r\n"
     ]
    }
   ],
   "source": [
    "!cat ~/.aws/config"
   ]
  },
  {
   "cell_type": "code",
   "execution_count": 5,
   "metadata": {
    "collapsed": false
   },
   "outputs": [
    {
     "name": "stdout",
     "output_type": "stream",
     "text": [
      "{\r\n",
      "    \"Volumes\": []\r\n",
      "}\r\n"
     ]
    }
   ],
   "source": [
    "!export AWS_DEFAULT_REGION=us-west-1\n",
    "!aws ec2 describe-volumes"
   ]
  },
  {
   "cell_type": "markdown",
   "metadata": {},
   "source": [
    "### IAM (identity and access management)"
   ]
  },
  {
   "cell_type": "markdown",
   "metadata": {},
   "source": [
    "Documentation:\n",
    "\n",
    "http://docs.aws.amazon.com/IAM/latest/UserGuide/getting-started_create-admin-group.html?shortFooter=true#Using_CreateGroup"
   ]
  },
  {
   "cell_type": "code",
   "execution_count": 6,
   "metadata": {
    "collapsed": false
   },
   "outputs": [
    {
     "name": "stdout",
     "output_type": "stream",
     "text": [
      "{\r\n",
      "    \"Groups\": [\r\n",
      "        {\r\n",
      "            \"Path\": \"/\",\r\n",
      "            \"CreateDate\": \"2017-03-27T12:19:15Z\",\r\n",
      "            \"Arn\": \"arn:aws:iam::217382780035:group/iterative\",\r\n",
      "            \"GroupName\": \"iterative\",\r\n",
      "            \"GroupId\": \"AGPAJEEYNNP5NEHOFFSHO\"\r\n",
      "        }\r\n",
      "    ]\r\n",
      "}\r\n"
     ]
    }
   ],
   "source": [
    "!aws iam list-groups"
   ]
  },
  {
   "cell_type": "code",
   "execution_count": 7,
   "metadata": {
    "collapsed": false
   },
   "outputs": [
    {
     "name": "stdout",
     "output_type": "stream",
     "text": [
      "{\n",
      "    \"AttachedPolicies\": [\n",
      "        {\n",
      "            \"PolicyName\": \"AdministratorAccess\",\n",
      "            \"PolicyArn\": \"arn:aws:iam::aws:policy/AdministratorAccess\"\n",
      "        }\n",
      "    ]\n",
      "}\n"
     ]
    }
   ],
   "source": [
    "!aws iam list-attached-group-policies --group-name iterative"
   ]
  },
  {
   "cell_type": "code",
   "execution_count": null,
   "metadata": {
    "collapsed": true
   },
   "outputs": [],
   "source": []
  }
 ],
 "metadata": {
  "kernelspec": {
   "display_name": "Python 3",
   "language": "python",
   "name": "python3"
  },
  "language_info": {
   "codemirror_mode": {
    "name": "ipython",
    "version": 3
   },
   "file_extension": ".py",
   "mimetype": "text/x-python",
   "name": "python",
   "nbconvert_exporter": "python",
   "pygments_lexer": "ipython3",
   "version": "3.5.2"
  }
 },
 "nbformat": 4,
 "nbformat_minor": 2
}
