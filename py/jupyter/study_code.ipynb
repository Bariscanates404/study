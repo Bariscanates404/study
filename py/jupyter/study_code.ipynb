{
 "cells": [
  {
   "cell_type": "markdown",
   "metadata": {},
   "source": [
    "## Emoji Keyboard"
   ]
  },
  {
   "cell_type": "code",
   "execution_count": 1,
   "metadata": {
    "collapsed": false
   },
   "outputs": [
    {
     "name": "stdout",
     "output_type": "stream",
     "text": [
      "Copied! ✨\r\n"
     ]
    }
   ],
   "source": [
    "# emoji keyboard\n",
    "!em sparkles"
   ]
  },
  {
   "cell_type": "code",
   "execution_count": 5,
   "metadata": {
    "collapsed": false
   },
   "outputs": [
    {
     "name": "stdout",
     "output_type": "stream",
     "text": [
      "Traceback (most recent call last):\r\n",
      "  File \"/Users/mertnuhoglu/miniconda3/bin/em\", line 11, in <module>\r\n",
      "    sys.exit(cli())\r\n",
      "  File \"/Users/mertnuhoglu/miniconda3/lib/python3.5/site-packages/em/__init__.py\", line 119, in cli\r\n",
      "    found = do_find(lookup, names[0])\r\n",
      "  File \"/Users/mertnuhoglu/miniconda3/lib/python3.5/site-packages/em/__init__.py\", line 73, in do_find\r\n",
      "    for name, definition in lookup.iteritems():\r\n",
      "AttributeError: 'dict' object has no attribute 'iteritems'\r\n"
     ]
    }
   ],
   "source": [
    "# search\n",
    "!em -s red"
   ]
  },
  {
   "cell_type": "code",
   "execution_count": null,
   "metadata": {
    "collapsed": true
   },
   "outputs": [],
   "source": []
  }
 ],
 "metadata": {
  "kernelspec": {
   "display_name": "Python 3",
   "language": "python",
   "name": "python3"
  },
  "language_info": {
   "codemirror_mode": {
    "name": "ipython",
    "version": 3
   },
   "file_extension": ".py",
   "mimetype": "text/x-python",
   "name": "python",
   "nbconvert_exporter": "python",
   "pygments_lexer": "ipython3",
   "version": "3.5.2"
  }
 },
 "nbformat": 4,
 "nbformat_minor": 2
}
