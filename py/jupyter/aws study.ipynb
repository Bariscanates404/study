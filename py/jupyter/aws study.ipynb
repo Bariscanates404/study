{
 "cells": [
  {
   "cell_type": "markdown",
   "metadata": {},
   "source": [
    "# s3"
   ]
  },
  {
   "cell_type": "markdown",
   "metadata": {},
   "source": [
    "### list all files"
   ]
  },
  {
   "cell_type": "code",
   "execution_count": 15,
   "metadata": {
    "collapsed": false
   },
   "outputs": [
    {
     "data": {
      "text/plain": [
       "[{'ETag': '\"8e6fa0797999fc54bedc8d18a2b0b3d6\"',\n",
       "  'Key': '2013-02-23-12-17-49-6B4C46A82B207DC2',\n",
       "  'LastModified': datetime.datetime(2013, 2, 23, 12, 17, 50, tzinfo=tzutc()),\n",
       "  'Owner': {'DisplayName': 's3-log-service',\n",
       "   'ID': '3272ee65a908a7677109fedda345db8d9554ba26398b2ca10581de88777e2b61'},\n",
       "  'Size': 366,\n",
       "  'StorageClass': 'STANDARD'},\n",
       " {'ETag': '\"32637e53da6c0afc8ce12a9b84559106\"',\n",
       "  'Key': '2013-02-23-13-18-48-629C73E5A218D37F',\n",
       "  'LastModified': datetime.datetime(2013, 2, 23, 13, 18, 49, tzinfo=tzutc()),\n",
       "  'Owner': {'DisplayName': 's3-log-service',\n",
       "   'ID': '3272ee65a908a7677109fedda345db8d9554ba26398b2ca10581de88777e2b61'},\n",
       "  'Size': 367,\n",
       "  'StorageClass': 'STANDARD'}]"
      ]
     },
     "execution_count": 15,
     "metadata": {},
     "output_type": "execute_result"
    }
   ],
   "source": [
    "import boto3\n",
    "s3=boto3.client('s3')\n",
    "list=s3.list_objects(Bucket='mert01')['Contents']\n",
    "list[1:3]"
   ]
  },
  {
   "cell_type": "code",
   "execution_count": 27,
   "metadata": {
    "collapsed": false
   },
   "outputs": [],
   "source": [
    "# https://stackoverflow.com/questions/3337912/quick-way-to-list-all-files-in-amazon-s3-bucket\n",
    "import boto\n",
    "\n",
    "s3 = boto.connect_s3()\n",
    "bucket = s3.get_bucket('mert01')\n",
    "#bl = bucket.list()\n",
    "#for key in bucket.list():\n",
    "#    print(key.name)\n"
   ]
  },
  {
   "cell_type": "code",
   "execution_count": 30,
   "metadata": {
    "collapsed": false
   },
   "outputs": [
    {
     "name": "stdout",
     "output_type": "stream",
     "text": [
      "2013-02-23-11-18-40-F481822430A3900B\n",
      "2013-02-23-12-17-49-6B4C46A82B207DC2\n",
      "2013-02-23-13-18-48-629C73E5A218D37F\n"
     ]
    }
   ],
   "source": [
    "import itertools\n",
    "for el in itertools.islice(bl, 0, 3):\n",
    "    print(el.name)"
   ]
  },
  {
   "cell_type": "code",
   "execution_count": 32,
   "metadata": {
    "collapsed": false
   },
   "outputs": [
    {
     "name": "stdout",
     "output_type": "stream",
     "text": [
      "23949\n"
     ]
    }
   ],
   "source": [
    "# len(bl)\n",
    "i = 0\n",
    "for key in bucket.list():\n",
    "    i = i + 1\n",
    "print(i)\n"
   ]
  },
  {
   "cell_type": "code",
   "execution_count": 37,
   "metadata": {
    "collapsed": false
   },
   "outputs": [
    {
     "name": "stdout",
     "output_type": "stream",
     "text": [
      "2013-02-23-11-18-40-F481822430A3900B\n",
      "2013-02-23-12-17-49-6B4C46A82B207DC2\n",
      "2013-02-23-13-18-48-629C73E5A218D37F\n"
     ]
    }
   ],
   "source": [
    "bl2 = bucket.list(prefix=\"201\")\n",
    "for el in itertools.islice(bl2, 0, 3):\n",
    "    print(el.name)"
   ]
  },
  {
   "cell_type": "code",
   "execution_count": 38,
   "metadata": {
    "collapsed": false
   },
   "outputs": [
    {
     "data": {
      "text/plain": [
       "<boto.s3.multidelete.MultiDeleteResult at 0x107cf8978>"
      ]
     },
     "execution_count": 38,
     "metadata": {},
     "output_type": "execute_result"
    }
   ],
   "source": [
    "# https://stackoverflow.com/questions/10054985/how-to-delete-files-recursively-from-an-s3-bucket#18698235\n",
    "result = bucket.delete_keys([key.name for key in bl2])\n",
    "result"
   ]
  },
  {
   "cell_type": "code",
   "execution_count": null,
   "metadata": {
    "collapsed": true
   },
   "outputs": [],
   "source": []
  }
 ],
 "metadata": {
  "kernelspec": {
   "display_name": "Python 3",
   "language": "python",
   "name": "python3"
  },
  "language_info": {
   "codemirror_mode": {
    "name": "ipython",
    "version": 3
   },
   "file_extension": ".py",
   "mimetype": "text/x-python",
   "name": "python",
   "nbconvert_exporter": "python",
   "pygments_lexer": "ipython3",
   "version": "3.5.2"
  }
 },
 "nbformat": 4,
 "nbformat_minor": 2
}
